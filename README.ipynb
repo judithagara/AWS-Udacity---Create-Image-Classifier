{
 "cells": [
  {
   "cell_type": "markdown",
   "id": "517387b0",
   "metadata": {},
   "source": [
    "## AWS/Udacity Scholarship\n",
    "#### Project 2: Create Your Own Image Classifier\n",
    "\n",
    "This Project consists of two parts:\n",
    "\n",
    "### 1. Developing an Image Classifier with Deep Learning\n",
    "In this first part of the project, I worked through a Jupyter notebook to implement an image classifier with PyTorch. I built and trained a deep neural network on the [flower data set](http://www.robots.ox.ac.uk/~vgg/data/flowers/102/index.html).\n",
    "\n",
    "### 2 - Building the Command Line Application\n",
    "In this part of the project, I converted my trained network into a command line application that others can use. My application is a pair of Python scripts that run from the command line. I used the argparse module in the standard library to get the command line input into the scripts and my saved checkpoint in the first part as default arguments.\n",
    "\n",
    "**Specifications:**\n",
    "This part has two main files train.py and predict.py and 3 supporting scripts all contained in the repository. The first file, train.py, will train a new network on a dataset and save the model as a checkpoint. The second file, predict.py, uses a trained network to predict the class (flower specie) for an input image."
   ]
  }
 ],
 "metadata": {
  "kernelspec": {
   "display_name": "Python 3 (ipykernel)",
   "language": "python",
   "name": "python3"
  },
  "language_info": {
   "codemirror_mode": {
    "name": "ipython",
    "version": 3
   },
   "file_extension": ".py",
   "mimetype": "text/x-python",
   "name": "python",
   "nbconvert_exporter": "python",
   "pygments_lexer": "ipython3",
   "version": "3.9.13"
  }
 },
 "nbformat": 4,
 "nbformat_minor": 5
}
